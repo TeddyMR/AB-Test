{
 "cells": [
  {
   "cell_type": "code",
   "execution_count": 1,
   "id": "ed628109",
   "metadata": {},
   "outputs": [],
   "source": [
    "# bibliotecas para a manipulação de tabelas \n",
    "\n",
    "import pandas as pd\n",
    "import numpy as np \n",
    "\n",
    "# importando bibliotecas para a comparação de dois experimentos\n",
    "\n",
    "import statsmodels.stats.api as sms\n",
    "from scipy.stats import ttest_1samp, shapiro, levene, ttest_ind, mannwhitneyu, pearsonr, spearmanr, kendalltau, \\\n",
    "    f_oneway, kruskal\n",
    "from statsmodels.stats.proportion import proportions_ztest"
   ]
  },
  {
   "cell_type": "markdown",
   "id": "e8e04cd8",
   "metadata": {},
   "source": [
    "## H0 -> NÃO HOUVE DIFERENÇA ENTRE OS GRUPOS\n",
    "## H1 -> HOUVE DIFERENÇA ENTRE OS GRUPOS"
   ]
  },
  {
   "cell_type": "code",
   "execution_count": 2,
   "id": "6afb9a3d",
   "metadata": {
    "scrolled": true
   },
   "outputs": [
    {
     "data": {
      "text/html": [
       "<div>\n",
       "<style scoped>\n",
       "    .dataframe tbody tr th:only-of-type {\n",
       "        vertical-align: middle;\n",
       "    }\n",
       "\n",
       "    .dataframe tbody tr th {\n",
       "        vertical-align: top;\n",
       "    }\n",
       "\n",
       "    .dataframe thead th {\n",
       "        text-align: right;\n",
       "    }\n",
       "</style>\n",
       "<table border=\"1\" class=\"dataframe\">\n",
       "  <thead>\n",
       "    <tr style=\"text-align: right;\">\n",
       "      <th></th>\n",
       "      <th>auction_id</th>\n",
       "      <th>experiment</th>\n",
       "      <th>date</th>\n",
       "      <th>hour</th>\n",
       "      <th>device_make</th>\n",
       "      <th>platform_os</th>\n",
       "      <th>browser</th>\n",
       "      <th>yes</th>\n",
       "      <th>no</th>\n",
       "    </tr>\n",
       "  </thead>\n",
       "  <tbody>\n",
       "    <tr>\n",
       "      <th>0</th>\n",
       "      <td>0008ef63-77a7-448b-bd1e-075f42c55e39</td>\n",
       "      <td>exposed</td>\n",
       "      <td>2020-07-10</td>\n",
       "      <td>8</td>\n",
       "      <td>Generic Smartphone</td>\n",
       "      <td>6</td>\n",
       "      <td>Chrome Mobile</td>\n",
       "      <td>0</td>\n",
       "      <td>0</td>\n",
       "    </tr>\n",
       "    <tr>\n",
       "      <th>1</th>\n",
       "      <td>000eabc5-17ce-4137-8efe-44734d914446</td>\n",
       "      <td>exposed</td>\n",
       "      <td>2020-07-07</td>\n",
       "      <td>10</td>\n",
       "      <td>Generic Smartphone</td>\n",
       "      <td>6</td>\n",
       "      <td>Chrome Mobile</td>\n",
       "      <td>0</td>\n",
       "      <td>0</td>\n",
       "    </tr>\n",
       "    <tr>\n",
       "      <th>2</th>\n",
       "      <td>0016d14a-ae18-4a02-a204-6ba53b52f2ed</td>\n",
       "      <td>exposed</td>\n",
       "      <td>2020-07-05</td>\n",
       "      <td>2</td>\n",
       "      <td>E5823</td>\n",
       "      <td>6</td>\n",
       "      <td>Chrome Mobile WebView</td>\n",
       "      <td>0</td>\n",
       "      <td>1</td>\n",
       "    </tr>\n",
       "    <tr>\n",
       "      <th>3</th>\n",
       "      <td>00187412-2932-4542-a8ef-3633901c98d9</td>\n",
       "      <td>control</td>\n",
       "      <td>2020-07-03</td>\n",
       "      <td>15</td>\n",
       "      <td>Samsung SM-A705FN</td>\n",
       "      <td>6</td>\n",
       "      <td>Facebook</td>\n",
       "      <td>0</td>\n",
       "      <td>0</td>\n",
       "    </tr>\n",
       "    <tr>\n",
       "      <th>4</th>\n",
       "      <td>001a7785-d3fe-4e11-a344-c8735acacc2c</td>\n",
       "      <td>control</td>\n",
       "      <td>2020-07-03</td>\n",
       "      <td>15</td>\n",
       "      <td>Generic Smartphone</td>\n",
       "      <td>6</td>\n",
       "      <td>Chrome Mobile</td>\n",
       "      <td>0</td>\n",
       "      <td>0</td>\n",
       "    </tr>\n",
       "  </tbody>\n",
       "</table>\n",
       "</div>"
      ],
      "text/plain": [
       "                             auction_id experiment        date  hour  \\\n",
       "0  0008ef63-77a7-448b-bd1e-075f42c55e39    exposed  2020-07-10     8   \n",
       "1  000eabc5-17ce-4137-8efe-44734d914446    exposed  2020-07-07    10   \n",
       "2  0016d14a-ae18-4a02-a204-6ba53b52f2ed    exposed  2020-07-05     2   \n",
       "3  00187412-2932-4542-a8ef-3633901c98d9    control  2020-07-03    15   \n",
       "4  001a7785-d3fe-4e11-a344-c8735acacc2c    control  2020-07-03    15   \n",
       "\n",
       "          device_make  platform_os                browser  yes  no  \n",
       "0  Generic Smartphone            6          Chrome Mobile    0   0  \n",
       "1  Generic Smartphone            6          Chrome Mobile    0   0  \n",
       "2               E5823            6  Chrome Mobile WebView    0   1  \n",
       "3   Samsung SM-A705FN            6               Facebook    0   0  \n",
       "4  Generic Smartphone            6          Chrome Mobile    0   0  "
      ]
     },
     "execution_count": 2,
     "metadata": {},
     "output_type": "execute_result"
    }
   ],
   "source": [
    "df = pd.read_csv(\"C:\\\\Users\\\\thade\\\\OneDrive\\\\Área de Trabalho\\\\AB Test\\\\AdSmartABdata.csv\")\n",
    "df.head()"
   ]
  },
  {
   "cell_type": "code",
   "execution_count": 3,
   "id": "6386f370",
   "metadata": {},
   "outputs": [
    {
     "name": "stdout",
     "output_type": "stream",
     "text": [
      "O grupo controlado possui 586 registros\n",
      "O grupo exposto ao ad possui 657 registros\n",
      "A taxa de conversão do grupo controlado é de 45.05%\n",
      "A taxa de conversão do grupo exposto é de 46.88%\n"
     ]
    }
   ],
   "source": [
    "# filrando apenas os casos de interação do usuário\n",
    "df = df.query(\"yes == 1 | no == 1\")\n",
    "\n",
    "# dividindo o dataframe em control e exposed\n",
    "\n",
    "df_control = df.query('experiment == \"control\"')\n",
    "df_exposed = df.query('experiment == \"exposed\"')\n",
    "\n",
    "print('O grupo controlado possui {} registros'.format(df_control.shape[0]))\n",
    "print('O grupo exposto ao ad possui {} registros'.format(df_exposed.shape[0]))\n",
    "    \n",
    "mean_control = '{0:.2f}%'.format(df_control.yes.mean()*100)\n",
    "mean_exposed = '{0:.2f}%'.format(df_exposed.yes.mean()*100)\n",
    "print('A taxa de conversão do grupo controlado é de {}'.format(mean_control))\n",
    "print('A taxa de conversão do grupo exposto é de {}'.format(mean_exposed))"
   ]
  },
  {
   "cell_type": "code",
   "execution_count": 4,
   "id": "a379d185",
   "metadata": {},
   "outputs": [
    {
     "name": "stdout",
     "output_type": "stream",
     "text": [
      "O tamanho da amostra controlada e exposta é de 586 e 657.\n",
      "o número de conversões do controle e do exposto é de 264 e 308 respectivamente.\n"
     ]
    }
   ],
   "source": [
    "control_converted = df_control.query('yes == 1')\n",
    "exposed_converted = df_exposed.query('yes == 1')\n",
    "\n",
    "print('O tamanho da amostra controlada e exposta é de {} e {}.'.format(df_control.shape[0], df_exposed.shape[0]))\n",
    "print('o número de conversões do controle e do exposto é de {} e {} respectivamente.'.format(control_converted.shape[0], exposed_converted.shape[0]))"
   ]
  },
  {
   "cell_type": "code",
   "execution_count": 5,
   "id": "2b823517",
   "metadata": {},
   "outputs": [],
   "source": [
    "contagem = np.array([exposed_converted.shape[0], control_converted.shape[0]])\n",
    "\n",
    "n_obs = np.array([df_exposed.shape[0], df_control.shape[0]])"
   ]
  },
  {
   "cell_type": "code",
   "execution_count": 6,
   "id": "3678c348",
   "metadata": {},
   "outputs": [
    {
     "name": "stdout",
     "output_type": "stream",
     "text": [
      "P-value is equal to 25.92%\n"
     ]
    }
   ],
   "source": [
    "#armazenando os valores obtidos no teste de hipoteses nas variáveis temos o valor de p\n",
    "stat, p_val = proportions_ztest(contagem, n_obs, alternative = 'larger')\n",
    "p_form = '{0:.2f}%'.format(p_val*100)\n",
    "print('P-value is equal to {}'.format(p_form))"
   ]
  }
 ],
 "metadata": {
  "kernelspec": {
   "display_name": "Python 3 (ipykernel)",
   "language": "python",
   "name": "python3"
  },
  "language_info": {
   "codemirror_mode": {
    "name": "ipython",
    "version": 3
   },
   "file_extension": ".py",
   "mimetype": "text/x-python",
   "name": "python",
   "nbconvert_exporter": "python",
   "pygments_lexer": "ipython3",
   "version": "3.9.13"
  }
 },
 "nbformat": 4,
 "nbformat_minor": 5
}
